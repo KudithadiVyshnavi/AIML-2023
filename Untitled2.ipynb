{
  "nbformat": 4,
  "nbformat_minor": 0,
  "metadata": {
    "colab": {
      "provenance": [],
      "authorship_tag": "ABX9TyOD6dJlry1hRaQQJ/hECs+V",
      "include_colab_link": true
    },
    "kernelspec": {
      "name": "python3",
      "display_name": "Python 3"
    },
    "language_info": {
      "name": "python"
    }
  },
  "cells": [
    {
      "cell_type": "markdown",
      "metadata": {
        "id": "view-in-github",
        "colab_type": "text"
      },
      "source": [
        "<a href=\"https://colab.research.google.com/github/KudithadiVyshnavi/AIML-2023/blob/main/Untitled2.ipynb\" target=\"_parent\"><img src=\"https://colab.research.google.com/assets/colab-badge.svg\" alt=\"Open In Colab\"/></a>"
      ]
    },
    {
      "cell_type": "code",
      "execution_count": null,
      "metadata": {
        "id": "Et7MJhi9VNw0"
      },
      "outputs": [],
      "source": [
        "from copy import deepcopy\n",
        "import numpy as np\n",
        "import time\n",
        "\n",
        "def bestsolutioin(state):\n",
        "  bestsol = np.array([], int),reshape(-1,9)\n",
        "  count = len(state) - 1\n",
        "  while count |= -1;\n",
        "     bestsol = np.insert(bestsol, 0, state[count]['puzzle'],0)\n",
        "     count = (state[count][count]['parent'])\n",
        "     return bestsol.reshape(-1, 3, 3)\n",
        ""
      ]
    }
  ]
}